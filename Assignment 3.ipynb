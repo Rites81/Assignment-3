{
 "cells": [
  {
   "cell_type": "markdown",
   "id": "4fdb4e13",
   "metadata": {},
   "source": [
    "# Assignment 3 based on tuples"
   ]
  },
  {
   "cell_type": "markdown",
   "id": "5063b495",
   "metadata": {},
   "source": [
    "##  Tuples help to store multiple items in a sings variable.\n",
    "## characteristics of tuple:\n",
    "  ###  It is a Ordered and changeable.\n",
    "   ### It allow dublicate item.\n",
    "  ###  tuple are immutable.\n",
    "  ### it also follow concatenation property.\n",
    "### Yes, tuble is immutable it means we didn't able to change its items"
   ]
  },
  {
   "cell_type": "code",
   "execution_count": 12,
   "id": "ae315b0e",
   "metadata": {},
   "outputs": [
    {
     "name": "stdout",
     "output_type": "stream",
     "text": [
      "count of tuple 3 is:: 3\n",
      "count of tuple 1 is:: 2\n"
     ]
    }
   ],
   "source": [
    "# The two method of tuple is - count() and index()\n",
    "# count() help to identify the position of item.\n",
    "Tuple = (0, 1, 2, 3, 2, 3, 1, 3, 2)\n",
    "res=Tuple.count(3)\n",
    "print(\"count of tuple 3 is::\",res)\n",
    "res=Tuple.count(1)\n",
    "print(\"count of tuple 1 is::\",res)\n",
    "\n"
   ]
  },
  {
   "cell_type": "code",
   "execution_count": 26,
   "id": "5d0d91a3",
   "metadata": {},
   "outputs": [
    {
     "name": "stdout",
     "output_type": "stream",
     "text": [
      "Index of 7 is:: 3\n",
      "Index of 8 is:: 7\n"
     ]
    }
   ],
   "source": [
    "#index() help to identify the presence of item.\n",
    "\n",
    "Tuple = (0,3,5,7,3,2,5,8,2,6)\n",
    "res = Tuple.index(7)\n",
    "print(\"Index of 7 is::\",res)\n",
    "res = Tuple.index(8)\n",
    "print(\"Index of 8 is::\",res)\n",
    "\n",
    "# Because of tuples are immutable, they are faster than the list because they are static in python.\n"
   ]
  },
  {
   "cell_type": "markdown",
   "id": "6a69b9c6",
   "metadata": {},
   "source": [
    "## Set() is unique datatype how didn't allow duplicate items we can use build-in-set() function to convert list to a set. "
   ]
  },
  {
   "cell_type": "code",
   "execution_count": 29,
   "id": "da022ed5",
   "metadata": {},
   "outputs": [
    {
     "name": "stdout",
     "output_type": "stream",
     "text": [
      "[1, 1, 1, 2, 1, 3, 1, 4, 2, 1, 2, 2, 2, 3, 2, 4, 3, 1, 3, 2, 3, 3, 3, 4, 4, 1, 4, 2, 4, 3, 4, 4]\n",
      "{1, 2, 3, 4}\n"
     ]
    }
   ],
   "source": [
    "#list in python\n",
    "list = [1,1,1,2,1,3,1,4,2,1,2,2,2,3,2,4,3,1,3,2,3,3,3,4,4,1,4,2,4,3,4,4]\n",
    "print(list)\n",
    "\n",
    "# set in python\n",
    "list1={1,1,1,2,1,3,1,4,2,1,2,2,2,3,2,4,3,1,3,2,3,3,3,4,4,1,4,2,4,3,4,4}\n",
    "print(list1)"
   ]
  },
  {
   "cell_type": "markdown",
   "id": "79e6ac13",
   "metadata": {},
   "source": [
    "# Difference between union() and update()\n",
    "\n",
    "##  union() set method is use to contain all the value of diifernt set and make single set where all elementare present there. union() set mehin is use to contain all the value of diifernt set and make single set where all elementare present there.\n",
    "\n",
    "## Update() set method is use to update a value in different set using update keyword, Python update() function in set adds elements from a set (passed as an argument) to the set. "
   ]
  },
  {
   "cell_type": "code",
   "execution_count": 31,
   "id": "7ec5af56",
   "metadata": {},
   "outputs": [
    {
     "name": "stdout",
     "output_type": "stream",
     "text": [
      "All element are :: {'Course', 1, 2, 3, 4, 6, 'Ritesh', 22, 'Python'}\n"
     ]
    }
   ],
   "source": [
    "A = {1,2,3,4,\"Ritesh\",\"Python\"}\n",
    "B = (\"Course\",6,22)\n",
    "print(\"All element are ::\",A.union(B))\n"
   ]
  },
  {
   "cell_type": "code",
   "execution_count": 35,
   "id": "725ac982",
   "metadata": {},
   "outputs": [
    {
     "name": "stdout",
     "output_type": "stream",
     "text": [
      "{'Course', 1, 2, 3, 4, 6, 'Ritesh', 'Python', 22}\n"
     ]
    }
   ],
   "source": [
    "A = {1,2,3,4,\"Ritesh\",\"Python\"}\n",
    "B = (\"Course\",6,22)\n",
    "set1=set(B)\n",
    "set2=set(A)\n",
    "set1.update(set2)\n",
    "print(set1)"
   ]
  },
  {
   "cell_type": "markdown",
   "id": "8eafffed",
   "metadata": {},
   "source": [
    "# Dictionary is used to store data in a key and value pair. Dictionary define keyword is dict(). Dictionary written in curly bracketes.\n",
    "\n",
    "## Dictionary are ordered item."
   ]
  },
  {
   "cell_type": "code",
   "execution_count": 38,
   "id": "ef39acb5",
   "metadata": {},
   "outputs": [
    {
     "name": "stdout",
     "output_type": "stream",
     "text": [
      "{'Name': 'Ritesh', 'Course': 'Data SCience', 'Location ': 'New Delhi'}\n"
     ]
    }
   ],
   "source": [
    "item = {\n",
    "    \"Name\" : \"Ritesh\",\n",
    "    \"Course\" : \"Data SCience\",\n",
    "    \"Location \" : \"New Delhi\"\n",
    "}\n",
    "print(item)"
   ]
  },
  {
   "cell_type": "code",
   "execution_count": 39,
   "id": "41cee23f",
   "metadata": {},
   "outputs": [
    {
     "name": "stdout",
     "output_type": "stream",
     "text": [
      "Ritesh\n",
      "BCA\n",
      "Delhi\n",
      "{'Name': 'Ritesh', 'Course': 'BCA', 'Location ': 'Delhi'}\n"
     ]
    }
   ],
   "source": [
    "item = {\n",
    "    \"Name\" : input(),\n",
    "    \"Course\" : input(),\n",
    "    \"Location \" : input()\n",
    "}\n",
    "print(item)"
   ]
  },
  {
   "cell_type": "markdown",
   "id": "3002dd96",
   "metadata": {},
   "source": [
    "# A dictionary can contain dictionaries, this is called nested dictionaries."
   ]
  },
  {
   "cell_type": "code",
   "execution_count": 49,
   "id": "7152cf48",
   "metadata": {},
   "outputs": [
    {
     "name": "stdout",
     "output_type": "stream",
     "text": [
      "{'Name': 'Rites', 'Work': 'Bussiness', 'year': 2012}\n",
      "{'Name': 'Vikas', 'Work': 'Workshop', 'year': 2010}\n",
      "{'Name': 'Sachin', 'Work': 'Entrepreneur', 'year': 2017}\n"
     ]
    }
   ],
   "source": [
    "person1={\n",
    "   \"Name\":\"Rites\",\n",
    "    \"Work\":\"Bussiness\",\n",
    "    \"year\":2012\n",
    "}\n",
    "person2={\n",
    "     \"Name\":\"Vikas\",\n",
    "    \"Work\":\"Workshop\",\n",
    "    \"year\":2010\n",
    "}\n",
    "person3={\n",
    "     \"Name\":\"Sachin\",\n",
    "    \"Work\":\"Entrepreneur\",\n",
    "    \"year\":2017\n",
    "}\n",
    "myemployee={\n",
    "    \"person1\": person1,\n",
    "    \"person2\": person2,\n",
    "    \"person3\": person3\n",
    "}\n",
    "print(person1)\n",
    "print(person2)\n",
    "print(person3)"
   ]
  },
  {
   "cell_type": "markdown",
   "id": "185c953a",
   "metadata": {},
   "source": [
    "# Setdefault()"
   ]
  },
  {
   "cell_type": "code",
   "execution_count": 53,
   "id": "26a2db98",
   "metadata": {},
   "outputs": [
    {
     "name": "stdout",
     "output_type": "stream",
     "text": [
      "Machine Learning\n",
      "['python', 'Machine learning', 'Deep learning']\n"
     ]
    }
   ],
   "source": [
    "dict1 = {\n",
    "  \"language\": \"python\",\n",
    "  \"Course\": \"Data science master\"\n",
    "}\n",
    "list = [\"python\",\"Machine learning\",\"Deep learning\"]\n",
    "x = dict1.setdefault(\"course\", \"Machine Learning\")\n",
    "\n",
    "print(x)\n",
    "print(list)"
   ]
  },
  {
   "cell_type": "markdown",
   "id": "570ece32",
   "metadata": {},
   "source": [
    "## The main three view objects of dictionary in python are keys, values and items."
   ]
  },
  {
   "cell_type": "code",
   "execution_count": 57,
   "id": "2fdd9cb0",
   "metadata": {},
   "outputs": [
    {
     "name": "stdout",
     "output_type": "stream",
     "text": [
      "dict_keys(['sport', 'team'])\n",
      "dict_values(['cricket', ['India', 'New Zealand', 'South Africa', 'England', 'Australia', 'Sri Lanka']])\n",
      "{'sport': 'cricket', 'team': ['India', 'New Zealand', 'South Africa', 'England', 'Australia', 'Sri Lanka']}\n"
     ]
    }
   ],
   "source": [
    "dict1 = {'sport':\"cricket\",\"team\":[\"India\",\"New Zealand\",\"South Africa\",\"England\",\"Australia\",\"Sri Lanka\"]}\n",
    "keys = dict1.keys()\n",
    "values = dict1.values()\n",
    "print(keys)\n",
    "print(values)\n",
    "print(dict1)"
   ]
  },
  {
   "cell_type": "code",
   "execution_count": null,
   "id": "c539fb1e",
   "metadata": {},
   "outputs": [],
   "source": []
  }
 ],
 "metadata": {
  "kernelspec": {
   "display_name": "Python 3 (ipykernel)",
   "language": "python",
   "name": "python3"
  },
  "language_info": {
   "codemirror_mode": {
    "name": "ipython",
    "version": 3
   },
   "file_extension": ".py",
   "mimetype": "text/x-python",
   "name": "python",
   "nbconvert_exporter": "python",
   "pygments_lexer": "ipython3",
   "version": "3.10.5"
  }
 },
 "nbformat": 4,
 "nbformat_minor": 5
}
